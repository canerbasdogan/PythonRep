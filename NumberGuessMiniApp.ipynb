{
 "cells": [
  {
   "cell_type": "code",
   "execution_count": 86,
   "id": "c0714df6",
   "metadata": {
    "scrolled": true
   },
   "outputs": [
    {
     "name": "stdout",
     "output_type": "stream",
     "text": [
      "15\n",
      "0'dan 100'e kadar bir sayı giriniz: 0\n",
      "Sayıyı artırın! 4 hakkınız kaldı\n",
      "0'dan 100'e kadar bir sayı giriniz: -10\n",
      "Girdiğiniz değer 0'dan küçük veya 100'den büyük! 3 hakkınız kaldı\n",
      "0'dan 100'e kadar bir sayı giriniz: 10\n",
      "Sayıyı artırın! 2 hakkınız kaldı\n",
      "0'dan 100'e kadar bir sayı giriniz: 11\n",
      "Sayıyı artırın! 1 hakkınız kaldı\n",
      "0'dan 100'e kadar bir sayı giriniz: 12\n",
      "5 Hakkınız bitti. Bilemediniz. Tutulan sayı 15\n"
     ]
    }
   ],
   "source": [
    "import random\n",
    "sayi = random.randint(0,100)\n",
    "print(sayi)\n",
    "haklar = [1,2,3,4,5]\n",
    "\n",
    "for hak in haklar:\n",
    "    tahmin = input(\"0'dan 100'e kadar bir sayı giriniz: \")\n",
    "    tahminInt = int(tahmin)\n",
    "    if tahminInt > 100 or tahminInt < 0:\n",
    "        print(\"Girdiğiniz değer 0'dan küçük veya 100'den büyük! \" + str(len(haklar)-hak) + \" hakkınız kaldı\")\n",
    "        continue\n",
    "    elif tahminInt == sayi:\n",
    "        print(\"Tebrikler! \" + str(hak) + \". hakkınızda bildiniz.\")\n",
    "        break\n",
    "    elif tahminInt < sayi:\n",
    "        if hak != 5:\n",
    "            print(\"Sayıyı artırın! \" + str(len(haklar)-hak) + \" hakkınız kaldı\")\n",
    "        else:\n",
    "            print(\"5 Hakkınız bitti. Bilemediniz. Tutulan sayı \" + str(sayi))\n",
    "    elif tahminInt > sayi:\n",
    "        if hak != 5:\n",
    "            print(\"Sayıyı azaltın! \" + str(len(haklar)-hak) + \" hakkınız kaldı\")\n",
    "        else:\n",
    "            print(\"5 Hakkınız bitti. Bilemediniz. Tutulan sayı \" + str(sayi))\n",
    "    \n"
   ]
  },
  {
   "cell_type": "code",
   "execution_count": 90,
   "id": "5c4f5f0c",
   "metadata": {},
   "outputs": [
    {
     "name": "stdout",
     "output_type": "stream",
     "text": [
      "20\n",
      "0'dan 100'e kadar bir sayı giriniz: 10\n",
      "Sayıyı artırın! 4 hakkınız kaldı\n",
      "0'dan 100'e kadar bir sayı giriniz: 15\n",
      "Sayıyı artırın! 3 hakkınız kaldı\n",
      "0'dan 100'e kadar bir sayı giriniz: 25\n",
      "Sayıyı azaltın! 2 hakkınız kaldı\n",
      "0'dan 100'e kadar bir sayı giriniz: 20\n",
      "Tebrikler! 4. hakkınızda bildiniz.\n"
     ]
    }
   ],
   "source": [
    "import random\n",
    "sayi = random.randint(0,100)\n",
    "print(sayi)\n",
    "kalanHakSayac = 5\n",
    "for i in range(1,6):\n",
    "    tahmin = input(\"0'dan 100'e kadar bir sayı giriniz: \")\n",
    "    tahminInt = int(tahmin)\n",
    "    if tahminInt > 100 or tahminInt < 0:\n",
    "        print(\"Girdiğiniz değer 0'dan küçük veya 100'den büyük! \" + str(kalanHakSayac-i) + \" hakkınız kaldı\")\n",
    "        continue\n",
    "    elif tahminInt == sayi:\n",
    "        print(\"Tebrikler! \" + str(i) + \". hakkınızda bildiniz.\")\n",
    "        break\n",
    "    elif tahminInt < sayi:\n",
    "        if i != 5:\n",
    "            print(\"Sayıyı artırın! \" + str(kalanHakSayac-i) + \" hakkınız kaldı\")\n",
    "        else:\n",
    "            print(\"5 Hakkınız bitti. Bilemediniz. Tutulan sayı \" + str(sayi))\n",
    "    elif tahminInt > sayi:\n",
    "        if i != 5:\n",
    "            print(\"Sayıyı azaltın! \" + str(kalanHakSayac-i) + \" hakkınız kaldı\")\n",
    "        else:\n",
    "            print(\"5 Hakkınız bitti. Bilemediniz. Tutulan sayı \" + str(sayi))\n",
    "    "
   ]
  },
  {
   "cell_type": "code",
   "execution_count": 96,
   "id": "e7c16bb4",
   "metadata": {},
   "outputs": [
    {
     "name": "stdout",
     "output_type": "stream",
     "text": [
      "15\n",
      "0'dan 100'e kadar bir sayı giriniz: 10\n",
      "Sayıyı artırın! 4 hakkınız kaldı\n",
      "0'dan 100'e kadar bir sayı giriniz: 15\n",
      "Tebrikler! 2. hakkınızda bildiniz.\n"
     ]
    }
   ],
   "source": [
    "import random\n",
    "sayi = random.randint(0,100)\n",
    "print(sayi)\n",
    "i = 1\n",
    "kalanHakSayac = 5\n",
    "while i<=5:\n",
    "    tahmin = input(\"0'dan 100'e kadar bir sayı giriniz: \")\n",
    "    tahminInt = int(tahmin)\n",
    "    if tahminInt > 100 or tahminInt < 0:\n",
    "        print(\"Girdiğiniz değer 0'dan küçük veya 100'den büyük! \" + str(kalanHakSayac-i) + \" hakkınız kaldı\")\n",
    "        i = i + 1\n",
    "        continue\n",
    "    elif tahminInt == sayi:\n",
    "        print(\"Tebrikler! \" + str(i) + \". hakkınızda bildiniz.\")\n",
    "        break\n",
    "    elif tahminInt < sayi:\n",
    "        if i != 5:\n",
    "            print(\"Sayıyı artırın! \" + str(kalanHakSayac-i) + \" hakkınız kaldı\")\n",
    "            i = i + 1\n",
    "        else:\n",
    "            print(\"5 Hakkınız bitti. Bilemediniz. Tutulan sayı \" + str(sayi))\n",
    "            i = i + 1\n",
    "    elif tahminInt > sayi:\n",
    "        if i != 5:\n",
    "            print(\"Sayıyı azaltın! \" + str(kalanHakSayac-i) + \" hakkınız kaldı\")\n",
    "            i = i + 1\n",
    "        else:\n",
    "            print(\"5 Hakkınız bitti. Bilemediniz. Tutulan sayı \" + str(sayi))\n",
    "            i = i + 1\n",
    "    "
   ]
  },
  {
   "cell_type": "code",
   "execution_count": 95,
   "id": "de087e69",
   "metadata": {},
   "outputs": [
    {
     "name": "stdout",
     "output_type": "stream",
     "text": [
      "2\n"
     ]
    }
   ],
   "source": [
    "import random\n",
    "sayi = random.randint(0,2)\n",
    "print(sayi)"
   ]
  },
  {
   "cell_type": "code",
   "execution_count": null,
   "id": "4337ea81",
   "metadata": {},
   "outputs": [],
   "source": []
  }
 ],
 "metadata": {
  "kernelspec": {
   "display_name": "Python 3 (ipykernel)",
   "language": "python",
   "name": "python3"
  },
  "language_info": {
   "codemirror_mode": {
    "name": "ipython",
    "version": 3
   },
   "file_extension": ".py",
   "mimetype": "text/x-python",
   "name": "python",
   "nbconvert_exporter": "python",
   "pygments_lexer": "ipython3",
   "version": "3.9.12"
  }
 },
 "nbformat": 4,
 "nbformat_minor": 5
}
