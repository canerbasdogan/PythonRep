{
 "cells": [
  {
   "cell_type": "code",
   "execution_count": 5,
   "metadata": {
    "colab": {
     "base_uri": "https://localhost:8080/",
     "height": 36
    },
    "id": "XGkO5fMKz4KL",
    "outputId": "1b087bba-87cf-4f52-b336-eb5f175f7d1a"
   },
   "outputs": [
    {
     "data": {
      "text/plain": [
       "'ram'"
      ]
     },
     "execution_count": 5,
     "metadata": {},
     "output_type": "execute_result"
    }
   ],
   "source": [
    "#Question 1:\n",
    "\n",
    "def middleThreeStr(givenText):\n",
    "  if len(givenText) < 3:\n",
    "    return \"Length of the given string should be equal or greater than 3\"\n",
    "  elif len(givenText) % 2 == 0:\n",
    "    return \"Please enter a string with odd length\"\n",
    "  else:\n",
    "    threeLetters=list()\n",
    "    startLetterIndex= (len(givenText)-3)//2\n",
    "    sayac=0\n",
    "    for i in range (0,len(givenText)):\n",
    "      if sayac <=2:\n",
    "        threeLetters.append(givenText[((startLetterIndex)+sayac)])\n",
    "      sayac=sayac+1\n",
    "  return \"\".join(threeLetters)\n",
    "\n",
    "#middleThreeStr(\"programming\")\n",
    "    "
   ]
  },
  {
   "cell_type": "code",
   "execution_count": 19,
   "metadata": {},
   "outputs": [
    {
     "data": {
      "text/plain": [
       "(10, 26, 42)"
      ]
     },
     "execution_count": 19,
     "metadata": {},
     "output_type": "execute_result"
    }
   ],
   "source": [
    "#Question 2:\n",
    "\n",
    "def threePartSumOfList(givenList):\n",
    "    if (len(givenList)) % 3 == 0:\n",
    "        x = int((len(givenList))/3)\n",
    "        list1 = list()\n",
    "        list2 = list()\n",
    "        list3 = list()\n",
    "        sum1=0\n",
    "        sum2=0\n",
    "        sum3=0\n",
    "        for i in range (0,len(givenList)):\n",
    "            if i < x:\n",
    "                list1.append(givenList[i])\n",
    "            if i >= x and i<2*x:\n",
    "                list2.append(givenList[i])\n",
    "            if i >= 2*x and i<3*x:\n",
    "                list3.append(givenList[i])\n",
    "        for i in range (0,x):\n",
    "            sum1 += list1[i]\n",
    "            sum2 += list2[i]\n",
    "            sum3 += list3[i]\n",
    "        return sum1,sum2,sum3\n",
    "    else:\n",
    "        return \"can not be divided into 3 chunks\"\n",
    "\n",
    "#listDeneme1= [1,2,3,4,5,6,7,8,9,10,11,12]\n",
    "\n",
    "#threePartSumOfList(listDeneme1)\n"
   ]
  },
  {
   "cell_type": "code",
   "execution_count": 15,
   "metadata": {},
   "outputs": [
    {
     "data": {
      "text/plain": [
       "'ilA temhA penyeZ '"
      ]
     },
     "execution_count": 15,
     "metadata": {},
     "output_type": "execute_result"
    }
   ],
   "source": [
    "#Question 3:\n",
    "\n",
    "def textReverse(givenText):\n",
    "    liste = givenText.split(\" \")\n",
    "    string1=\"\"\n",
    "    for kelime in liste:\n",
    "        for i in range(0,len(kelime)):\n",
    "            string1 += kelime[len(kelime)-1-i]\n",
    "        string1 += \" \"\n",
    "    return string1\n",
    "\n",
    "#textReverse(\"Ali Ahmet Zeynep\")"
   ]
  },
  {
   "cell_type": "code",
   "execution_count": 12,
   "metadata": {},
   "outputs": [
    {
     "data": {
      "text/plain": [
       "['Elma', 'Mandalina', 'Erik', 'Muz', 'Canerik']"
      ]
     },
     "execution_count": 12,
     "metadata": {},
     "output_type": "execute_result"
    }
   ],
   "source": [
    "#Question 4\n",
    "\n",
    "def bothList(list1,list2):\n",
    "  emptyList = list()\n",
    "  for kelime1 in list1:\n",
    "    for kelime2 in list2:\n",
    "      if kelime1 == kelime2:\n",
    "        emptyList.append(kelime1)\n",
    "        break\n",
    "  return emptyList\n",
    "\n",
    "#list1 = [\"Elma\",\"Armut\",\"Mandalina\",\"Portakal\",\"Erik\",\"Muz\",\"Canerik\"]\n",
    "#list2 = [\"Kavun\",\"Elma\",\"Canerik\",\"Çilek\",\"Muz\",\"Mandalina\",\"Ceviz\",\"Üzüm\",\"Erik\",\"Badem\"]\n",
    "\n",
    "#bothList(list1,list2)"
   ]
  },
  {
   "cell_type": "code",
   "execution_count": 14,
   "metadata": {},
   "outputs": [
    {
     "data": {
      "text/plain": [
       "'sAbAnCiUnIvErSiTy'"
      ]
     },
     "execution_count": 14,
     "metadata": {},
     "output_type": "execute_result"
    }
   ],
   "source": [
    "#Question 5\n",
    "\n",
    "def oddStringUpper(givenString):\n",
    "  string1 = \"\"\n",
    "  for i in range (0,len(givenString)):\n",
    "    if i % 2 == 0:\n",
    "      string1 += givenString[i]\n",
    "    else:\n",
    "      a = (givenString[i]).upper()\n",
    "      string1 += a\n",
    "  return string1\n",
    "\n",
    "#stringGiven = \"sabanciuniversity\"\n",
    "#oddStringUpper(stringGiven)"
   ]
  }
 ],
 "metadata": {
  "colab": {
   "collapsed_sections": [],
   "provenance": []
  },
  "kernelspec": {
   "display_name": "Python 3 (ipykernel)",
   "language": "python",
   "name": "python3"
  },
  "language_info": {
   "codemirror_mode": {
    "name": "ipython",
    "version": 3
   },
   "file_extension": ".py",
   "mimetype": "text/x-python",
   "name": "python",
   "nbconvert_exporter": "python",
   "pygments_lexer": "ipython3",
   "version": "3.9.12"
  }
 },
 "nbformat": 4,
 "nbformat_minor": 1
}
