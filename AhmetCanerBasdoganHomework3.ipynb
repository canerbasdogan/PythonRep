{
 "cells": [
  {
   "cell_type": "code",
   "execution_count": 6,
   "metadata": {
    "colab": {
     "base_uri": "https://localhost:8080/"
    },
    "id": "gY5W25MN_VHR",
    "outputId": "fe9428d4-b996-4e34-c8c8-8432b4ebb709"
   },
   "outputs": [
    {
     "data": {
      "text/plain": [
       "True"
      ]
     },
     "execution_count": 6,
     "metadata": {},
     "output_type": "execute_result"
    }
   ],
   "source": [
    "#Question 1\n",
    "\n",
    "def sameLetterCheck (word1, word2):\n",
    "  dict1 = dict()\n",
    "  dict2 = dict()\n",
    "  if len(word1) != len(word2):\n",
    "    return False\n",
    "  else:\n",
    "    for harf in word1:\n",
    "      dict1[harf] = 0\n",
    "    for harf in word1:\n",
    "      dict1[harf] = dict1[harf] + 1\n",
    "    for harf in word2:\n",
    "      dict2[harf] = 0\n",
    "    for harf in word2:\n",
    "      dict2[harf] = dict2[harf] + 1\n",
    "  if dict1 == dict2:\n",
    "    return True\n",
    "  else:\n",
    "    return False\n",
    "\n",
    "sameLetterCheck (\"mafmat\", \"taammf\")\n",
    "#word1 = \"mmetttaa\"\n",
    "#word2 = \"temtamta\"\n"
   ]
  },
  {
   "cell_type": "code",
   "execution_count": 7,
   "metadata": {},
   "outputs": [
    {
     "data": {
      "text/plain": [
       "20"
      ]
     },
     "execution_count": 7,
     "metadata": {},
     "output_type": "execute_result"
    }
   ],
   "source": [
    "#Question 2\n",
    "\n",
    "def countPalindromess(filename):\n",
    "    file = open(filename,\"r\")\n",
    "    lines = file.readlines()\n",
    "    liste1 =list()\n",
    "    for line in lines:\n",
    "        l = line.strip()\n",
    "        liste1.append(l)\n",
    "    sayac = 0\n",
    "    for kelime in liste1:\n",
    "        kelimeLower =kelime.lower()\n",
    "        string1=\"\"\n",
    "        for harf in kelimeLower:\n",
    "            for i in range(0,len(kelimeLower)):\n",
    "                string1 += kelimeLower[len(kelimeLower)-1-i]\n",
    "            break\n",
    "        if kelimeLower == string1:\n",
    "            sayac += 1\n",
    "    return sayac\n",
    "\n",
    "countPalindromess(\"palindromes.txt\")"
   ]
  },
  {
   "cell_type": "code",
   "execution_count": 8,
   "metadata": {},
   "outputs": [
    {
     "data": {
      "text/plain": [
       "{'ananas',\n",
       " 'armut',\n",
       " 'elma',\n",
       " 'karpuz',\n",
       " 'kayisi',\n",
       " 'muz',\n",
       " 'nar',\n",
       " 'portakal',\n",
       " 'seftali',\n",
       " 'uzum'}"
      ]
     },
     "execution_count": 8,
     "metadata": {},
     "output_type": "execute_result"
    }
   ],
   "source": [
    "#Question 3\n",
    "\n",
    "def distinctWords(fileName):\n",
    "    file = open(fileName,\"r\")\n",
    "    lines = file.read()\n",
    "    l = lines.split()\n",
    "    set1 = set(l)\n",
    "    return set1\n",
    "\n",
    "distinctWords(\"meyveler.txt\")"
   ]
  },
  {
   "cell_type": "code",
   "execution_count": 3,
   "metadata": {
    "colab": {
     "base_uri": "https://localhost:8080/"
    },
    "id": "74GRxMbbchLj",
    "outputId": "eefcb3fa-bf72-44ce-aa25-0e4b80d6fa60"
   },
   "outputs": [],
   "source": [
    "#Question 4\n",
    "\n",
    "def translator(fileName,translatedFile):\n",
    "    \n",
    "    file1 = open(fileName,\"r\",encoding=\"utf-8\")\n",
    "    file2 = open(translatedFile,\"w\")\n",
    "    file1lines = file1.readlines()\n",
    "    translator = {'karpuz':'watermelon', \n",
    "                  'elma':'apple',\n",
    "                  'kayısı':'apricot',\n",
    "                  'nar':'pomegranate',\n",
    "                  'şeftali': 'peach',\n",
    "                  'ananas':'pineapple',\n",
    "                  'portakal':'orange',\n",
    "                  'armut':'pear',\n",
    "                  'üzüm':'grape',\n",
    "                  'muz':'banana'}\n",
    "    for i in range(len(file1lines)):\n",
    "        l = file1lines[i].strip(\",\\n\")\n",
    "        g = l.split(\", \")\n",
    "        for j in range(len(g)):\n",
    "            if i == (len(file1lines)-1) and j == (len(g)-1):\n",
    "                file2.write(translator[g[j]])\n",
    "            else:\n",
    "                file2.write(translator[g[j]]+\", \")\n",
    "        file2.write(\"\\n\")\n",
    "    file2.close()\n",
    "    file1.close()\n",
    "    \n",
    "translator(\"turkish.txt\",\"deneme15.txt\")"
   ]
  },
  {
   "cell_type": "code",
   "execution_count": 5,
   "metadata": {},
   "outputs": [
    {
     "data": {
      "image/png": "[encoded data removed]",
      "text/plain": [
       "<Figure size 432x288 with 1 Axes>"
      ]
     },
     "metadata": {
      "needs_background": "light"
     },
     "output_type": "display_data"
    }
   ],
   "source": [
    "#Question 5\n",
    "\n",
    "def UsdHistoricalData(fileName):\n",
    "    \n",
    "    import numpy as np\n",
    "    import matplotlib.pyplot as plt\n",
    "\n",
    "    arr1 = np.loadtxt(fileName, dtype = str)\n",
    "    list1 = list()\n",
    "    list2 = list()\n",
    "    x = np.array(list1)\n",
    "    y = np.array(list2)\n",
    "    for i in arr1:\n",
    "\n",
    "        x = np.append(x,i[0])\n",
    "        yStr = i[1].replace(\",\",\".\")\n",
    "        yFloat = float(yStr)\n",
    "        y = np.append(y,yFloat)\n",
    "\n",
    "    plt.scatter(x,y)\n",
    "    plt.show()\n",
    "\n",
    "UsdHistoricalData(\"dolar.txt\")"
   ]
  }
 ],
 "metadata": {
  "colab": {
   "provenance": []
  },
  "kernelspec": {
   "display_name": "Python 3 (ipykernel)",
   "language": "python",
   "name": "python3"
  },
  "language_info": {
   "codemirror_mode": {
    "name": "ipython",
    "version": 3
   },
   "file_extension": ".py",
   "mimetype": "text/x-python",
   "name": "python",
   "nbconvert_exporter": "python",
   "pygments_lexer": "ipython3",
   "version": "3.9.12"
  }
 },
 "nbformat": 4,
 "nbformat_minor": 1
}
