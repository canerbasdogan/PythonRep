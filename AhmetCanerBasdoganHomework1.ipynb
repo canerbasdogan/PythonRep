{
 "cells": [
  {
   "cell_type": "code",
   "execution_count": 5,
   "metadata": {
    "colab": {
     "base_uri": "https://localhost:8080/"
    },
    "id": "FSkaf8duLJdi",
    "outputId": "d345bb4b-dfae-437f-90a1-72b979f85cef"
   },
   "outputs": [
    {
     "name": "stdout",
     "output_type": "stream",
     "text": [
      "I promise that I will do this homework all my own.\n"
     ]
    }
   ],
   "source": [
    "#Question1\n",
    "\n",
    "def promise():\n",
    "    print(\"I promise that I will do this homework all my own.\")\n",
    "promise()"
   ]
  },
  {
   "cell_type": "code",
   "execution_count": 1,
   "metadata": {},
   "outputs": [
    {
     "data": {
      "text/plain": [
       "392.85714285714283"
      ]
     },
     "execution_count": 1,
     "metadata": {},
     "output_type": "execute_result"
    }
   ],
   "source": [
    "#Question2\n",
    "\n",
    "def cylinderVolume(radius, height):\n",
    "    volume = (22/7)*(radius)**2*(height)\n",
    "    return volume\n",
    "\n",
    "#cylinderVolume(5,5)"
   ]
  },
  {
   "cell_type": "code",
   "execution_count": 51,
   "metadata": {},
   "outputs": [
    {
     "data": {
      "text/plain": [
       "5.0"
      ]
     },
     "execution_count": 51,
     "metadata": {},
     "output_type": "execute_result"
    }
   ],
   "source": [
    "#Question3\n",
    "\n",
    "def coordinateDistance(x1,y1,x2,y2):\n",
    "    lenxSquare = (x1 - x2)**2\n",
    "    lenySquare = (y1 - y2)**2\n",
    "    distanceSq = lenxSquare + lenySquare\n",
    "    distance = distanceSq**0.5\n",
    "    return distance\n",
    "\n",
    "#coordinateDistance(3,-2,-2,-14)\n",
    "#coordinateDistance(1,1,4,5)"
   ]
  },
  {
   "cell_type": "code",
   "execution_count": 36,
   "metadata": {},
   "outputs": [
    {
     "data": {
      "text/plain": [
       "['Muz', 'Nar']"
      ]
     },
     "execution_count": 36,
     "metadata": {},
     "output_type": "execute_result"
    }
   ],
   "source": [
    "#Question4\n",
    "\n",
    "def shortestWord(givenList):\n",
    "  bosListe = list()\n",
    "  shortest = len(givenList[0])\n",
    "  for word in givenList:\n",
    "    if len(word) <= shortest:\n",
    "      shortest = len(word)\n",
    "  for word in givenList:\n",
    "    if len(word) == shortest:\n",
    "      bosListe.append(word)\n",
    "  return bosListe\n",
    "\n",
    "#meyveler = [\"Elma\", \"Armut\", \"Portakal\", \"Muz\", \"Mandalina\", \"Greyfurt\", \"Nar\"]\n",
    "#shortestWord(meyveler)"
   ]
  },
  {
   "cell_type": "code",
   "execution_count": 32,
   "metadata": {
    "colab": {
     "base_uri": "https://localhost:8080/"
    },
    "id": "xY6BIFROuY-E",
    "outputId": "ba6c925e-febb-4d99-f70b-c1f28043b683"
   },
   "outputs": [
    {
     "data": {
      "text/plain": [
       "[33, 43, 56, 32, 45, 67, 78, 90, 35]"
      ]
     },
     "execution_count": 32,
     "metadata": {},
     "output_type": "execute_result"
    }
   ],
   "source": [
    "#Question5\n",
    "\n",
    "def equalOrGreater(liste, number):\n",
    "  newList = list()\n",
    "  for i in range (0,len(liste)):\n",
    "    if liste[i] >= number:\n",
    "      newList.append(liste[i])\n",
    "  return newList\n",
    "\n",
    "#integerList = [23, 33, 12, 43, 56, 32, 45, 67, 78, 90, 35]\n",
    "#equalOrGreater(integerList,24)"
   ]
  },
  {
   "cell_type": "code",
   "execution_count": null,
   "metadata": {
    "colab": {
     "base_uri": "https://localhost:8080/"
    },
    "id": "Dzg4CarA1pxX",
    "outputId": "7fbed109-a331-4f76-ae8e-9a9973462016"
   },
   "outputs": [
    {
     "data": {
      "text/plain": [
       "4"
      ]
     },
     "execution_count": 82,
     "metadata": {},
     "output_type": "execute_result"
    }
   ],
   "source": [
    "#Question6\n",
    "\n",
    "def integerCounter(integerList,number):\n",
    "  sayac1 = 0\n",
    "  for i in range(0,len(integerList)):\n",
    "    if integerList[i] == number:\n",
    "      sayac1 = sayac1 + 1\n",
    "  return sayac1\n",
    "\n",
    "#integerCounter(integerList,33)"
   ]
  },
  {
   "cell_type": "code",
   "execution_count": 38,
   "metadata": {
    "colab": {
     "base_uri": "https://localhost:8080/"
    },
    "id": "hFsJvNCqGff2",
    "outputId": "af042333-4cdd-4a75-b738-4934bdefeb0d"
   },
   "outputs": [
    {
     "name": "stdout",
     "output_type": "stream",
     "text": [
      "['1', 'a', '2', 'b', '3', 'c', '4', 'd', '5', 'e', '6', 'f']\n"
     ]
    }
   ],
   "source": [
    "#Question7\n",
    "\n",
    "def concatList(list1,list2):\n",
    "  emptyList = []\n",
    "  for i in range(0,len(list1)):\n",
    "    emptyList.append(list1[i])\n",
    "    emptyList.append(list2[i])\n",
    "  newList = emptyList\n",
    "  return newList\n",
    "\n",
    "#list1 = [\"1\", \"2\", \"3\", \"4\", \"5\", \"6\"]\n",
    "#list2 = [\"a\", \"b\", \"c\", \"d\", \"e\", \"f\", \"g\"]\n",
    "#print(concatList(list1,list2))"
   ]
  },
  {
   "cell_type": "code",
   "execution_count": 41,
   "metadata": {
    "colab": {
     "base_uri": "https://localhost:8080/"
    },
    "id": "hvg-TjRRKU52",
    "outputId": "a3a23e8f-885e-4e80-a585-04268c613094"
   },
   "outputs": [
    {
     "data": {
      "text/plain": [
       "[6, 'a', 9, 8, 7, 6, 5, 4, 3, 2, 1]"
      ]
     },
     "execution_count": 41,
     "metadata": {},
     "output_type": "execute_result"
    }
   ],
   "source": [
    "#Question8\n",
    "\n",
    "def straightToReversed(list1):\n",
    "  lenStraight = len(list1)\n",
    "  reversedList = list()\n",
    "  for i in range (0,lenStraight):\n",
    "    #print(straightList[lenReversed-1-i])\n",
    "    reversedList.append(list1[lenStraight-1-i])\n",
    "  return reversedList\n",
    "\n",
    "#straightList = [1, 2, 3, 4, 5, 6, 7, 8, 9, \"a\", 6]\n",
    "#straghtToReversed(straightList)"
   ]
  },
  {
   "cell_type": "code",
   "execution_count": 39,
   "metadata": {
    "colab": {
     "base_uri": "https://localhost:8080/"
    },
    "id": "s3nLRIf3MUdI",
    "outputId": "cc8e18c9-6b65-4dae-e5bb-3baf819d5f0d"
   },
   "outputs": [
    {
     "data": {
      "text/plain": [
       "[1, 2, 9, 5, 6, 7, '_', '-']"
      ]
     },
     "execution_count": 39,
     "metadata": {},
     "output_type": "execute_result"
    }
   ],
   "source": [
    "#Question9\n",
    "\n",
    "def bothList(list1,list2):\n",
    "  bothList = list()\n",
    "  for i in range (0,len(list1)):\n",
    "    for j in range (0,len(list2)):\n",
    "      if list1[i] == list2[j]:\n",
    "        bothList.append(firstList[i])\n",
    "        break\n",
    "  return bothList\n",
    "\n",
    "#firstList = [1, 2, 3, 4, 9, 5, 6, 7, \"a\",\"d\",\"_\",\"-\"]\n",
    "#secondList = [6, 2, 5, 9, 8, \"_\", \"-\", 6, 6, 1, 7]\n",
    "#bothList(firstList,secondList)\n"
   ]
  },
  {
   "cell_type": "code",
   "execution_count": 49,
   "metadata": {
    "colab": {
     "base_uri": "https://localhost:8080/"
    },
    "id": "c9YJ8UJubEzk",
    "outputId": "5e7c8779-c331-41fe-fc83-03cd7885bae4"
   },
   "outputs": [
    {
     "data": {
      "text/plain": [
       "['d', 'e', 'a', 'f', 'b', 'c', 'g']"
      ]
     },
     "execution_count": 49,
     "metadata": {},
     "output_type": "execute_result"
    }
   ],
   "source": [
    "#Question10\n",
    "\n",
    "def listShuffle(givenList):\n",
    "  import random\n",
    "  emptyList = list()\n",
    "  for i in range (0,len(givenList)):\n",
    "    a = random.randint(0,(len(givenList)-1))\n",
    "    emptyList.append(givenList[a])\n",
    "    givenList.pop(a)\n",
    "    shuffledList = emptyList\n",
    "  return shuffledList\n",
    "\n",
    "#list1 = [1,2,3,4,5,6,7,8,9,10,11,12,13,14,15]\n",
    "#list2 = [\"a\",\"b\",\"c\",\"d\",\"e\",\"f\",\"g\"]\n",
    "#listShuffle(list2)\n"
   ]
  }
 ],
 "metadata": {
  "colab": {
   "collapsed_sections": [],
   "provenance": []
  },
  "kernelspec": {
   "display_name": "Python 3 (ipykernel)",
   "language": "python",
   "name": "python3"
  },
  "language_info": {
   "codemirror_mode": {
    "name": "ipython",
    "version": 3
   },
   "file_extension": ".py",
   "mimetype": "text/x-python",
   "name": "python",
   "nbconvert_exporter": "python",
   "pygments_lexer": "ipython3",
   "version": "3.9.12"
  }
 },
 "nbformat": 4,
 "nbformat_minor": 1
}
